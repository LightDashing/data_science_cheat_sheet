{
  "nbformat": 4,
  "nbformat_minor": 0,
  "metadata": {
    "colab": {
      "name": "YetAnotherNLP.ipynb",
      "provenance": [],
      "collapsed_sections": [],
      "toc_visible": true
    },
    "kernelspec": {
      "display_name": "Python 3",
      "name": "python3"
    },
    "accelerator": "GPU"
  },
  "cells": [
    {
      "cell_type": "markdown",
      "metadata": {
        "id": "R8_uXhL6GD-m"
      },
      "source": [
        "полезные ссылки\r\n",
        "\r\n",
        "https://towardsdatascience.com/topic-modeling-with-bert-779f7db187e6 — разделение топиков с BERT c нуля\r\n",
        "\r\n",
        "https://github.com/ddangelov/Top2Vec — простой инструмент для разделения топиков\r\n",
        "\r\n",
        "https://github.com/MaartenGr/BERTopic — моделирование топиков с BERT готовое"
      ]
    },
    {
      "cell_type": "code",
      "metadata": {
        "id": "ye1MayQ2K98R"
      },
      "source": [
        "import pandas as pd\r\n",
        "import fasttext\r\n",
        "import fasttext.util\r\n",
        "from nltk.corpus import stopwords\r\n",
        "import nltk\r\n",
        "nltk.download('stopwords')\r\n",
        "nltk.download(\"punkt\")\r\n",
        "import matplotlib.pyplot as plt\r\n",
        "import seaborn as sns\r\n",
        "from pymorphy2 import MorphAnalyzer\r\n",
        "from sklearn.decomposition import PCA, TruncatedSVD, LatentDirichletAllocation\r\n",
        "from sklearn.feature_extraction.text import TfidfVectorizer\r\n",
        "from sklearn.manifold import TSNE\r\n",
        "from scipy.sparse import hstack, vstack\r\n",
        "from sklearn.svm import SVC\r\n",
        "from sklearn.ensemble import RandomForestClassifier\r\n",
        "from sklearn.linear_model import RidgeClassifier, LogisticRegression\r\n",
        "from mpl_toolkits.mplot3d import Axes3D\r\n",
        "from sklearn.cluster import MiniBatchKMeans, KMeans\r\n",
        "from sklearn.model_selection import train_test_split\r\n",
        "from sklearn.metrics import accuracy_score, f1_score, roc_auc_score\r\n",
        "from imblearn.over_sampling import SMOTE\r\n",
        "from imblearn.under_sampling import RandomUnderSampler\r\n",
        "import re\r\n",
        "import numpy as np\r\n",
        "%matplotlib inline"
      ],
      "execution_count": null,
      "outputs": []
    },
    {
      "cell_type": "markdown",
      "metadata": {
        "id": "OmAWtR8uMeku"
      },
      "source": [
        "#Одни данные"
      ]
    },
    {
      "cell_type": "code",
      "metadata": {
        "id": "uFQAPbw1SZtx"
      },
      "source": [
        "patterns = \"[A-Za-z0-9!#$%&'()*+,./:;<=>?@[\\]^_`{|}~—\\\"\\-]+\\n\"\r\n",
        "stopwords_ru = stopwords.words(\"russian\")\r\n",
        "morph = MorphAnalyzer()\r\n",
        "\r\n",
        "def lemmatize(doc):\r\n",
        "    tags = doc\r\n",
        "    tokens = []\r\n",
        "    tags = re.sub(patterns, ' ', tags)\r\n",
        "    for token in tags.split():\r\n",
        "        if token and token not in stopwords_ru:\r\n",
        "            token = token.strip()\r\n",
        "            token = morph.normal_forms(token)[0]             \r\n",
        "            tokens.append(token)\r\n",
        "    if len(tokens) > 2:        \r\n",
        "        return \" \".join(tokens)\r\n",
        "    return None\r\n",
        "\r\n",
        "def vectorize(doc):\r\n",
        "  vector = ft.get_sentence_vector(doc)\r\n",
        "  return vector\r\n",
        "  \r\n",
        "df['comment'] = df['comment'].apply(lemmatize)\r\n",
        "df.dropna(inplace=True)\r\n",
        "df['comment'] = df['comment'].apply(vectorize)\r\n",
        "y = df['toxic']\r\n",
        "x = df['comment']\r\n",
        "\r\n",
        "x_train, x_test, y_train, y_test = train_test_split(x, y, test_size=0.3)"
      ],
      "execution_count": null,
      "outputs": []
    },
    {
      "cell_type": "code",
      "metadata": {
        "id": "GSNG8a_hhJct"
      },
      "source": [
        "pca = PCA(3)\r\n",
        "x_st = pca.fit_transform(df['comment'].values.tolist())\r\n",
        "y_st = df['toxic']\r\n",
        "fig = plt.figure(1, figsize=(10,10))\r\n",
        "ax = Axes3D(fig, rect=[0, 0, 0.95, 1], elev=0, azim=75)\r\n",
        "ax.scatter(x_st[:, 0],x_st[:, 1],x_st[:, 2], c=y_st, cmap='rainbow')"
      ],
      "execution_count": null,
      "outputs": []
    },
    {
      "cell_type": "code",
      "metadata": {
        "id": "oGkEOjU5hv3z"
      },
      "source": [
        "pca_2 = PCA(2)\r\n",
        "x_st2 = pca_2.fit_transform(df['comment'].values.tolist())\r\n",
        "sns.scatterplot(x=x_st2[:, 0], y=x_st2[:, 1], hue=y_st)"
      ],
      "execution_count": null,
      "outputs": []
    },
    {
      "cell_type": "code",
      "metadata": {
        "id": "KfLj2BwebkmM"
      },
      "source": [
        "x = df['comment']\r\n",
        "y = df['toxic']\r\n",
        "x.shape, y.shape\r\n",
        "\r\n",
        "smote = SMOTE(random_state=42, sampling_strategy=0.7)\r\n",
        "r_und = RandomUnderSampler(random_state=42, sampling_strategy=0.6)\r\n",
        "\r\n",
        "x, y = r_und.fit_resample(x.values.tolist(), y)\r\n",
        "x, y = smote.fit_resample(x, y)\r\n",
        "\r\n",
        "count_t = 0\r\n",
        "count_f = 0\r\n",
        "for i in range(len(y)):\r\n",
        "  if y[i] == 1:\r\n",
        "    count_t += 1\r\n",
        "  else:\r\n",
        "    count_f += 1\r\n",
        "count_t, count_f\r\n",
        "\r\n",
        "x_train, x_test, y_train, y_test = train_test_split(x, y, test_size=0.3)"
      ],
      "execution_count": null,
      "outputs": []
    },
    {
      "cell_type": "code",
      "metadata": {
        "id": "mzdIhXSOfHXL"
      },
      "source": [
        "#С SMOTE и RandomUnderSampling\r\n",
        "svm = SVC(random_state=42, C=1, kernel='rbf', probability=True)\r\n",
        "svm.fit(x_train, y_train)\r\n",
        "preds = svm.predict(x_test)\r\n",
        "print(\"Accuracy: \", accuracy_score(y_test, preds))\r\n",
        "print(\"F1-Score: \", f1_score(y_test, preds))\r\n",
        "print(\"ROC-AUC score: \", roc_auc_score(y_test, preds))"
      ],
      "execution_count": null,
      "outputs": []
    },
    {
      "cell_type": "markdown",
      "metadata": {
        "id": "tvzdGVo21iZi"
      },
      "source": [
        "#Другие данные"
      ]
    },
    {
      "cell_type": "code",
      "metadata": {
        "id": "2aa2QiLLx7tS"
      },
      "source": [
        "patterns = r\"[A-Za-z0-9!#$%&'()*+,./:;<=>?@[\\]^_`{|}~—\\\"\\-]+\"\r\n",
        "stopwords_ru = stopwords.words(\"russian\")\r\n",
        "morph = MorphAnalyzer()\r\n",
        "\r\n",
        "def lemmatize(doc):\r\n",
        "    doc = re.sub(patterns, ' ', doc)\r\n",
        "    words = nltk.word_tokenize(doc)\r\n",
        "    words = [morph.normal_forms(word)[0] for word in words]\r\n",
        "    words = [word for word in words if not word in stopwords_ru]\r\n",
        "    if len(words) > 2:        \r\n",
        "        return \" \".join(words)\r\n",
        "    return None\r\n",
        "\r\n",
        "data = df_chat['msg'].apply(lemmatize)"
      ],
      "execution_count": null,
      "outputs": []
    },
    {
      "cell_type": "code",
      "metadata": {
        "id": "Pb_KYfUZHvTF"
      },
      "source": [
        "tfidf = TfidfVectorizer(max_df=0.95, min_df=2, max_features=1000)\r\n",
        "tf_data = tfidf.fit_transform(data)"
      ],
      "execution_count": null,
      "outputs": []
    },
    {
      "cell_type": "code",
      "metadata": {
        "id": "ldxfHFCCNzMc"
      },
      "source": [
        "lda = LatentDirichletAllocation(n_components=5)\r\n",
        "lda.fit(tf_data)"
      ],
      "execution_count": null,
      "outputs": []
    },
    {
      "cell_type": "code",
      "metadata": {
        "id": "uOBLfrQANsMB"
      },
      "source": [
        "def get_model_topics(model, vectorizer, topics, n_top_words=20):\r\n",
        "    word_dict = {}\r\n",
        "    feature_names = vectorizer.get_feature_names()\r\n",
        "    for topic_idx, topic in enumerate(model.components_):\r\n",
        "        top_features_ind = topic.argsort()[:-n_top_words - 1:-1]\r\n",
        "        top_features = [feature_names[i] for i in top_features_ind]\r\n",
        "        word_dict[topics[topic_idx]] = top_features\r\n",
        "\r\n",
        "    return pd.DataFrame(word_dict)"
      ],
      "execution_count": null,
      "outputs": []
    },
    {
      "cell_type": "code",
      "metadata": {
        "id": "2tQoS1MXN0cH"
      },
      "source": [
        "results_df = get_model_topics(lda, tfidf, lda_topics)"
      ],
      "execution_count": null,
      "outputs": []
    },
    {
      "cell_type": "code",
      "metadata": {
        "id": "EHEoMiRvybqr"
      },
      "source": [
        ""
      ],
      "execution_count": null,
      "outputs": []
    },
    {
      "cell_type": "markdown",
      "metadata": {
        "id": "bBeRPrY3ydLi"
      },
      "source": [
        "#Тест"
      ]
    },
    {
      "cell_type": "code",
      "metadata": {
        "id": "gFPx6294zh0z"
      },
      "source": [
        "!pip install sentence_transformers "
      ],
      "execution_count": null,
      "outputs": []
    },
    {
      "cell_type": "code",
      "metadata": {
        "id": "7_nIpEH22KNq"
      },
      "source": [
        "!pip install hdbscan"
      ],
      "execution_count": null,
      "outputs": []
    },
    {
      "cell_type": "code",
      "metadata": {
        "id": "RO-FxqIjzlmc"
      },
      "source": [
        "from sentence_transformers import SentenceTransformer\r\n",
        "import pandas as pd\r\n",
        "from sklearn.feature_extraction.text import CountVectorizer\r\n",
        "import numpy as np\r\n",
        "import seaborn as sns\r\n",
        "import umap\r\n",
        "import matplotlib.pyplot as plt\r\n",
        "import hdbscan\r\n",
        "import nltk\r\n",
        "from sklearn.metrics.pairwise import cosine_similarity\r\n",
        "from nltk.corpus import stopwords\r\n",
        "nltk.download('stopwords')\r\n",
        "nltk.download(\"punkt\")\r\n",
        "import re\r\n",
        "\r\n",
        "df = pd.read_csv(\"news.csv\")\r\n",
        "df = df.replace('\\n','', regex=True)\r\n",
        "patterns = r\"[A-Za-z0-9!#$%&'()*+,./:;<=>?@[\\]^_`{|}~—\\\"\\-]+\"\r\n",
        "stopwords_ru = stopwords.words(\"russian\")\r\n",
        "\r\n",
        "def lemmatize(doc):\r\n",
        "    doc = re.sub(patterns, ' ', doc)\r\n",
        "    words = nltk.word_tokenize(doc)\r\n",
        "    words = [word for word in words if not word in stopwords_ru]\r\n",
        "    if len(words) > 2:        \r\n",
        "        return \" \".join(words)\r\n",
        "    return None\r\n",
        "  \r\n",
        "data = df['text'].apply(lemmatize)\r\n",
        "\r\n",
        "model = SentenceTransformer('stsb-distilbert-base')\r\n",
        "embeddings = model.encode(data, show_progress_bar=True)\r\n",
        "\r\n",
        "umap_embeddings = umap.UMAP(n_neighbors=15, \r\n",
        "                            n_components=5, \r\n",
        "                            metric='cosine').fit_transform(embeddings)\r\n",
        "\r\n",
        "cluster = hdbscan.HDBSCAN(min_cluster_size=15,\r\n",
        "                          metric='euclidean',                      \r\n",
        "                          cluster_selection_method='eom').fit(umap_embeddings)"
      ],
      "execution_count": null,
      "outputs": []
    },
    {
      "cell_type": "code",
      "metadata": {
        "colab": {
          "base_uri": "https://localhost:8080/",
          "height": 614
        },
        "id": "52u1eqaZ2R9q",
        "outputId": "7c326871-7f14-485b-822f-3b2ad093d840"
      },
      "source": [
        "umap_data = umap.UMAP(n_neighbors=15, n_components=2, min_dist=0.0, metric='cosine').fit_transform(embeddings)\r\n",
        "result = pd.DataFrame(umap_data, columns=['x', 'y'])\r\n",
        "result['labels'] = cluster.labels_\r\n",
        "\r\n",
        "# Visualize clusters\r\n",
        "fig, ax = plt.subplots(figsize=(20, 10))\r\n",
        "outliers = result.loc[result.labels == -1, :]\r\n",
        "clustered = result.loc[result.labels != -1, :]\r\n",
        "plt.scatter(outliers.x, outliers.y, color='#BDBDBD', s=0.05)\r\n",
        "plt.scatter(clustered.x, clustered.y, c=clustered.labels, s=0.05, cmap='hsv_r')\r\n",
        "plt.colorbar()"
      ],
      "execution_count": 39,
      "outputs": [
        {
          "output_type": "execute_result",
          "data": {
            "text/plain": [
              "<matplotlib.colorbar.Colorbar at 0x7fee1dade410>"
            ]
          },
          "metadata": {
            "tags": []
          },
          "execution_count": 39
        },
        {
          "output_type": "display_data",
          "data": {
            "image/png": "[encoded data removed]",
            "text/plain": [
              "<Figure size 1440x720 with 2 Axes>"
            ]
          },
          "metadata": {
            "tags": [],
            "needs_background": "light"
          }
        }
      ]
    },
    {
      "cell_type": "code",
      "metadata": {
        "id": "_0kgIPuu7ejx"
      },
      "source": [
        "docs_df = pd.DataFrame(data)\r\n",
        "docs_df['Topic'] = cluster.labels_\r\n",
        "docs_df['Doc_ID'] = range(len(docs_df))\r\n",
        "docs_per_topic = docs_df.groupby(['Topic'], as_index = False).agg({'text': ' '.join})\r\n",
        "\r\n",
        "def c_tf_idf(documents, m, ngram_range=(1, 1)):\r\n",
        "    count = CountVectorizer(ngram_range=ngram_range, stop_words=\"english\").fit(documents)\r\n",
        "    t = count.transform(documents).toarray()\r\n",
        "    w = t.sum(axis=1)\r\n",
        "    tf = np.divide(t.T, w)\r\n",
        "    sum_t = t.sum(axis=0)\r\n",
        "    idf = np.log(np.divide(m, sum_t)).reshape(-1, 1)\r\n",
        "    tf_idf = np.multiply(tf, idf)\r\n",
        "\r\n",
        "    return tf_idf, count\r\n",
        "  \r\n",
        "tf_idf, count = c_tf_idf(docs_per_topic.text.values, m=len(data))"
      ],
      "execution_count": 44,
      "outputs": []
    },
    {
      "cell_type": "code",
      "metadata": {
        "colab": {
          "base_uri": "https://localhost:8080/",
          "height": 363
        },
        "id": "OdN7LgZ193g0",
        "outputId": "c203e501-e337-420b-fe61-2b62aa09172a"
      },
      "source": [
        "def extract_top_n_words_per_topic(tf_idf, count, docs_per_topic, n=20):\r\n",
        "    words = count.get_feature_names()\r\n",
        "    labels = list(docs_per_topic.Topic)\r\n",
        "    tf_idf_transposed = tf_idf.T\r\n",
        "    indices = tf_idf_transposed.argsort()[:, -n:]\r\n",
        "    top_n_words = {label: [(words[j], tf_idf_transposed[i][j]) for j in indices[i]][::-1] for i, label in enumerate(labels)}\r\n",
        "    return top_n_words\r\n",
        "\r\n",
        "def extract_topic_sizes(df):\r\n",
        "    topic_sizes = (df.groupby(['Topic'])\r\n",
        "                     .text\r\n",
        "                     .count()\r\n",
        "                     .reset_index()\r\n",
        "                     .rename({\"Topic\": \"Topic\", \"text\": \"Size\"}, axis='columns')\r\n",
        "                     .sort_values(\"Size\", ascending=False))\r\n",
        "    return topic_sizes\r\n",
        "\r\n",
        "top_n_words = extract_top_n_words_per_topic(tf_idf, count, docs_per_topic, n=20)\r\n",
        "topic_sizes = extract_topic_sizes(docs_df); topic_sizes.head(10)"
      ],
      "execution_count": 45,
      "outputs": [
        {
          "output_type": "execute_result",
          "data": {
            "text/html": [
              "<div>\n",
              "<style scoped>\n",
              "    .dataframe tbody tr th:only-of-type {\n",
              "        vertical-align: middle;\n",
              "    }\n",
              "\n",
              "    .dataframe tbody tr th {\n",
              "        vertical-align: top;\n",
              "    }\n",
              "\n",
              "    .dataframe thead th {\n",
              "        text-align: right;\n",
              "    }\n",
              "</style>\n",
              "<table border=\"1\" class=\"dataframe\">\n",
              "  <thead>\n",
              "    <tr style=\"text-align: right;\">\n",
              "      <th></th>\n",
              "      <th>Topic</th>\n",
              "      <th>Size</th>\n",
              "    </tr>\n",
              "  </thead>\n",
              "  <tbody>\n",
              "    <tr>\n",
              "      <th>0</th>\n",
              "      <td>-1</td>\n",
              "      <td>7715</td>\n",
              "    </tr>\n",
              "    <tr>\n",
              "      <th>14</th>\n",
              "      <td>13</td>\n",
              "      <td>2792</td>\n",
              "    </tr>\n",
              "    <tr>\n",
              "      <th>53</th>\n",
              "      <td>52</td>\n",
              "      <td>2069</td>\n",
              "    </tr>\n",
              "    <tr>\n",
              "      <th>27</th>\n",
              "      <td>26</td>\n",
              "      <td>1494</td>\n",
              "    </tr>\n",
              "    <tr>\n",
              "      <th>31</th>\n",
              "      <td>30</td>\n",
              "      <td>1479</td>\n",
              "    </tr>\n",
              "    <tr>\n",
              "      <th>52</th>\n",
              "      <td>51</td>\n",
              "      <td>763</td>\n",
              "    </tr>\n",
              "    <tr>\n",
              "      <th>39</th>\n",
              "      <td>38</td>\n",
              "      <td>496</td>\n",
              "    </tr>\n",
              "    <tr>\n",
              "      <th>48</th>\n",
              "      <td>47</td>\n",
              "      <td>467</td>\n",
              "    </tr>\n",
              "    <tr>\n",
              "      <th>28</th>\n",
              "      <td>27</td>\n",
              "      <td>327</td>\n",
              "    </tr>\n",
              "    <tr>\n",
              "      <th>24</th>\n",
              "      <td>23</td>\n",
              "      <td>205</td>\n",
              "    </tr>\n",
              "  </tbody>\n",
              "</table>\n",
              "</div>"
            ],
            "text/plain": [
              "    Topic  Size\n",
              "0      -1  7715\n",
              "14     13  2792\n",
              "53     52  2069\n",
              "27     26  1494\n",
              "31     30  1479\n",
              "52     51   763\n",
              "39     38   496\n",
              "48     47   467\n",
              "28     27   327\n",
              "24     23   205"
            ]
          },
          "metadata": {
            "tags": []
          },
          "execution_count": 45
        }
      ]
    },
    {
      "cell_type": "code",
      "metadata": {
        "colab": {
          "base_uri": "https://localhost:8080/"
        },
        "id": "IdayTKpR-CS4",
        "outputId": "857a70e0-cd4d-488b-caae-c007645aa3ac"
      },
      "source": [
        "top_n_words[26][:30]"
      ],
      "execution_count": 53,
      "outputs": [
        {
          "output_type": "execute_result",
          "data": {
            "text/plain": [
              "[('вашингтон', 0.017391975398285523),\n",
              " ('трамп', 0.01332847045615633),\n",
              " ('сша', 0.01094191019080876),\n",
              " ('дональд', 0.007631755870942402),\n",
              " ('трампа', 0.0074857031105135426),\n",
              " ('президент', 0.006403843642859756),\n",
              " ('помпео', 0.0048584166939430904),\n",
              " ('сказал', 0.00469354766891895),\n",
              " ('президента', 0.004672237153838189),\n",
              " ('заявил', 0.004558584363748296),\n",
              " ('долларов', 0.004181370123802735),\n",
              " ('американских', 0.003995343156818558),\n",
              " ('говорится', 0.003703930060292423),\n",
              " ('ранее', 0.003691910251636854),\n",
              " ('госсекретарь', 0.0035557545071858766),\n",
              " ('мы', 0.0034796824651111944),\n",
              " ('против', 0.003469064359632046),\n",
              " ('белого', 0.0033909006958836984),\n",
              " ('дональда', 0.003351739016256804),\n",
              " ('данные', 0.003348846072464826)]"
            ]
          },
          "metadata": {
            "tags": []
          },
          "execution_count": 53
        }
      ]
    },
    {
      "cell_type": "code",
      "metadata": {
        "colab": {
          "base_uri": "https://localhost:8080/",
          "height": 363
        },
        "id": "WcRccW5-A1fF",
        "outputId": "447ec21c-43f6-4456-8ef5-43a03171566e"
      },
      "source": [
        "for i in range(20):\r\n",
        "    # Calculate cosine similarity\r\n",
        "    similarities = cosine_similarity(tf_idf.T)\r\n",
        "    np.fill_diagonal(similarities, 0)\r\n",
        "\r\n",
        "    # Extract label to merge into and from where\r\n",
        "    topic_sizes = docs_df.groupby(['Topic']).count().sort_values(\"text\", ascending=False).reset_index()\r\n",
        "    topic_to_merge = topic_sizes.iloc[-1].Topic\r\n",
        "    topic_to_merge_into = np.argmax(similarities[topic_to_merge + 1]) - 1\r\n",
        "\r\n",
        "    # Adjust topics\r\n",
        "    docs_df.loc[docs_df.Topic == topic_to_merge, \"Topic\"] = topic_to_merge_into\r\n",
        "    old_topics = docs_df.sort_values(\"Topic\").Topic.unique()\r\n",
        "    map_topics = {old_topic: index - 1 for index, old_topic in enumerate(old_topics)}\r\n",
        "    docs_df.Topic = docs_df.Topic.map(map_topics)\r\n",
        "    docs_per_topic = docs_df.groupby(['Topic'], as_index = False).agg({'text': ' '.join})\r\n",
        "\r\n",
        "    # Calculate new topic words\r\n",
        "    m = len(data)\r\n",
        "    tf_idf, count = c_tf_idf(docs_per_topic.text.values, m)\r\n",
        "    top_n_words = extract_top_n_words_per_topic(tf_idf, count, docs_per_topic, n=20)\r\n",
        "\r\n",
        "topic_sizes = extract_topic_sizes(docs_df); topic_sizes.head(10)"
      ],
      "execution_count": 60,
      "outputs": [
        {
          "output_type": "execute_result",
          "data": {
            "text/html": [
              "<div>\n",
              "<style scoped>\n",
              "    .dataframe tbody tr th:only-of-type {\n",
              "        vertical-align: middle;\n",
              "    }\n",
              "\n",
              "    .dataframe tbody tr th {\n",
              "        vertical-align: top;\n",
              "    }\n",
              "\n",
              "    .dataframe thead th {\n",
              "        text-align: right;\n",
              "    }\n",
              "</style>\n",
              "<table border=\"1\" class=\"dataframe\">\n",
              "  <thead>\n",
              "    <tr style=\"text-align: right;\">\n",
              "      <th></th>\n",
              "      <th>Topic</th>\n",
              "      <th>Size</th>\n",
              "    </tr>\n",
              "  </thead>\n",
              "  <tbody>\n",
              "    <tr>\n",
              "      <th>0</th>\n",
              "      <td>-1</td>\n",
              "      <td>7903</td>\n",
              "    </tr>\n",
              "    <tr>\n",
              "      <th>11</th>\n",
              "      <td>10</td>\n",
              "      <td>2792</td>\n",
              "    </tr>\n",
              "    <tr>\n",
              "      <th>38</th>\n",
              "      <td>37</td>\n",
              "      <td>2141</td>\n",
              "    </tr>\n",
              "    <tr>\n",
              "      <th>19</th>\n",
              "      <td>18</td>\n",
              "      <td>1494</td>\n",
              "    </tr>\n",
              "    <tr>\n",
              "      <th>22</th>\n",
              "      <td>21</td>\n",
              "      <td>1479</td>\n",
              "    </tr>\n",
              "    <tr>\n",
              "      <th>37</th>\n",
              "      <td>36</td>\n",
              "      <td>763</td>\n",
              "    </tr>\n",
              "    <tr>\n",
              "      <th>27</th>\n",
              "      <td>26</td>\n",
              "      <td>496</td>\n",
              "    </tr>\n",
              "    <tr>\n",
              "      <th>34</th>\n",
              "      <td>33</td>\n",
              "      <td>484</td>\n",
              "    </tr>\n",
              "    <tr>\n",
              "      <th>20</th>\n",
              "      <td>19</td>\n",
              "      <td>347</td>\n",
              "    </tr>\n",
              "    <tr>\n",
              "      <th>42</th>\n",
              "      <td>41</td>\n",
              "      <td>211</td>\n",
              "    </tr>\n",
              "  </tbody>\n",
              "</table>\n",
              "</div>"
            ],
            "text/plain": [
              "    Topic  Size\n",
              "0      -1  7903\n",
              "11     10  2792\n",
              "38     37  2141\n",
              "19     18  1494\n",
              "22     21  1479\n",
              "37     36   763\n",
              "27     26   496\n",
              "34     33   484\n",
              "20     19   347\n",
              "42     41   211"
            ]
          },
          "metadata": {
            "tags": []
          },
          "execution_count": 60
        }
      ]
    }
  ]
}