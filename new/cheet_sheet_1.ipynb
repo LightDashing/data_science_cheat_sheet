{
 "cells": [
  {
   "cell_type": "code",
   "execution_count": null,
   "id": "1ddb05ca",
   "metadata": {},
   "outputs": [],
   "source": [
    "import pandas as pd\n",
    "import numpy as np\n",
    "import matplotlib.pyplot as plt\n",
    "from mpl_toolkits.mplot3d import axes3d\n",
    "import plotly.graph_objects as go\n",
    "import seaborn as sns\n",
    "%matplotlib inline\n",
    "\n",
    "from sklearn.preprocessing import LabelEncoder\n",
    "from sklearn.manifold import TSNE\n",
    "from sklearn.decomposition import PCA\n",
    "from sklearn.cluster import MiniBatchKMeans\n",
    "from sklearn.metrics import silhouette_score, pairwise_distances_chunked, roc_auc_score\n",
    "from sklearn.ensemble import RandomForestClassifier\n",
    "from sklearn.model_selection import cross_val_score\n",
    "from sklearn.model_selection import StratifiedKFold"
   ]
  },
  {
   "cell_type": "code",
   "execution_count": null,
   "id": "38d9e3fb",
   "metadata": {},
   "outputs": [],
   "source": [
    "df = pd.read_csv(\"covid.csv\")\n",
    "df.head()"
   ]
  },
  {
   "cell_type": "code",
   "execution_count": null,
   "id": "d5ad9b2e",
   "metadata": {},
   "outputs": [],
   "source": [
    "df[\"date\"] = pd.to_datetime(df[\"date\"])"
   ]
  },
  {
   "cell_type": "code",
   "execution_count": null,
   "id": "0b681a85",
   "metadata": {},
   "outputs": [],
   "source": [
    "df = df.dropna(subset=[\"new_cases\"], axis=0)\n",
    "df[\"new_cases\"].isna().sum()"
   ]
  },
  {
   "cell_type": "code",
   "execution_count": null,
   "id": "809be014",
   "metadata": {},
   "outputs": [],
   "source": [
    "df = df.drop([\"iso_code\"], axis=1)"
   ]
  },
  {
   "cell_type": "code",
   "execution_count": null,
   "id": "064f5c25",
   "metadata": {},
   "outputs": [],
   "source": [
    "temp = df.sort_values([\"date\"], ascending=True).groupby([\"location\"])"
   ]
  },
  {
   "cell_type": "code",
   "execution_count": null,
   "id": "158cf3a8",
   "metadata": {
    "scrolled": true
   },
   "outputs": [],
   "source": [
    "def calculate_rt(g_arr):\n",
    "    x, y = sum(g_arr[0:4]), sum(g_arr[4:8])\n",
    "    if x == 0 or y == 0:\n",
    "        return 0\n",
    "    return np.round(x/y, 2)\n",
    "\n",
    "group_arr = []\n",
    "for name, group in temp:\n",
    "    temp_group = group.reset_index()\n",
    "    rt = np.array([])\n",
    "    for i, item in temp_group.iterrows():\n",
    "        if i < 8:\n",
    "            rt = np.append(rt, 0)\n",
    "            continue\n",
    "        try:\n",
    "            cases_arr = [temp_group.iloc[x][\"new_cases\"] for x in range(i, i-8, -1)]\n",
    "        except IndexError:\n",
    "            rt = np.append(rt, 0)\n",
    "            break\n",
    "        rt = np.append(rt, calculate_rt(cases_arr))\n",
    "    temp_group[\"rt\"] = rt\n",
    "    group_arr.append(temp_group)\n",
    "newdf = pd.concat(group_arr)\n",
    "newdf.head()"
   ]
  },
  {
   "cell_type": "code",
   "execution_count": null,
   "id": "3148deb8",
   "metadata": {},
   "outputs": [],
   "source": [
    "newdf = newdf.drop([\"index\"], axis=1)"
   ]
  },
  {
   "cell_type": "code",
   "execution_count": null,
   "id": "4fdbcd25",
   "metadata": {},
   "outputs": [],
   "source": [
    "fig_dims = (20, 5)\n",
    "fig, ax = plt.subplots(figsize=fig_dims)\n",
    "sns.lineplot(x=newdf[newdf[\"location\"] == \"France\"][\"date\"], y=newdf[newdf[\"location\"] == \"France\"][\"rt\"], ax=ax)"
   ]
  },
  {
   "cell_type": "code",
   "execution_count": null,
   "id": "46b7bd01",
   "metadata": {},
   "outputs": [],
   "source": [
    "for i in newdf.columns:\n",
    "    print(f\"{i} nan count - \", newdf[i].isna().sum())"
   ]
  },
  {
   "cell_type": "markdown",
   "id": "37825df1",
   "metadata": {},
   "source": [
    "Deleting all NA columns where NA is 70%"
   ]
  },
  {
   "cell_type": "code",
   "execution_count": null,
   "id": "5f2c1215",
   "metadata": {},
   "outputs": [],
   "source": [
    "newdf = newdf.dropna(thresh=len(newdf)*.7, axis=1)\n",
    "for i in newdf.columns:\n",
    "    print(f\"{i} nan count - \", newdf[i].isna().sum())"
   ]
  },
  {
   "cell_type": "code",
   "execution_count": null,
   "id": "9550f426",
   "metadata": {},
   "outputs": [],
   "source": [
    "newdf[newdf.total_cases.isna()]"
   ]
  },
  {
   "cell_type": "markdown",
   "id": "d40e49a7",
   "metadata": {},
   "source": [
    "NA replacement"
   ]
  },
  {
   "cell_type": "code",
   "execution_count": null,
   "id": "4d8cefd2",
   "metadata": {},
   "outputs": [],
   "source": [
    "newdf[\"total_cases\"] = newdf[\"total_cases\"].fillna(0)\n",
    "newdf[newdf.total_cases.isna()]"
   ]
  },
  {
   "cell_type": "code",
   "execution_count": null,
   "id": "055e2bad",
   "metadata": {},
   "outputs": [],
   "source": [
    "for i in newdf.columns:\n",
    "    if i == \"continent\":\n",
    "        continue\n",
    "    if newdf[i].isna().sum() > 0:\n",
    "        newdf[i] = newdf[i].fillna(method='ffill').fillna(method='bfill')\n",
    "newdf['continent'].fillna(\"No\", inplace = True)"
   ]
  },
  {
   "cell_type": "code",
   "execution_count": null,
   "id": "85ed18b4",
   "metadata": {},
   "outputs": [],
   "source": [
    "for i in newdf.columns:\n",
    "    print(f\"{i} nan count - \", newdf[i].isna().sum())"
   ]
  },
  {
   "cell_type": "code",
   "execution_count": null,
   "id": "cb77d549",
   "metadata": {},
   "outputs": [],
   "source": [
    "newdf.head()"
   ]
  },
  {
   "cell_type": "code",
   "execution_count": null,
   "id": "52d377f3",
   "metadata": {},
   "outputs": [],
   "source": [
    "le = LabelEncoder()\n",
    "newdf[\"continent\"] = le.fit_transform(newdf[\"continent\"])\n",
    "newdf.head()"
   ]
  },
  {
   "cell_type": "code",
   "execution_count": null,
   "id": "27169c03",
   "metadata": {},
   "outputs": [],
   "source": [
    "le2 = LabelEncoder()\n",
    "newdf[\"location\"] = le2.fit_transform(newdf[\"location\"])"
   ]
  },
  {
   "cell_type": "code",
   "execution_count": null,
   "id": "356077a3",
   "metadata": {},
   "outputs": [],
   "source": [
    "newdf.head()"
   ]
  },
  {
   "cell_type": "code",
   "execution_count": null,
   "id": "1a481ef5",
   "metadata": {},
   "outputs": [],
   "source": [
    "train_df = newdf.iloc[:, newdf.columns != \"date\"]"
   ]
  },
  {
   "cell_type": "code",
   "execution_count": null,
   "id": "35f2e38f",
   "metadata": {},
   "outputs": [],
   "source": [
    "tsne = TSNE()\n",
    "d2ata = tsne.fit_transform(train_df)\n",
    "\n",
    "fig_dims = (10, 10)\n",
    "fig, ax = plt.subplots(figsize=fig_dims)\n",
    "\n",
    "sns.scatterplot(x=d2ata[:, 0], y=d2ata[:, 1], ax=ax)"
   ]
  },
  {
   "cell_type": "code",
   "execution_count": null,
   "id": "631c6d01",
   "metadata": {
    "scrolled": true
   },
   "outputs": [],
   "source": [
    "tsne = TSNE(n_jobs=-1, n_components=3)\n",
    "d3ata = tsne.fit_transform(train_df)\n",
    "marker_data = go.Scatter3d(\n",
    "    x=d3ata[:, 0], \n",
    "    y=d3ata[:, 1], \n",
    "    z=d3ata[:, 2], \n",
    "    marker=go.scatter3d.Marker(size=3), \n",
    "    opacity=0.8, \n",
    "    mode='markers'\n",
    ")\n",
    "fig=go.Figure(data=marker_data)\n",
    "fig.show()"
   ]
  },
  {
   "cell_type": "code",
   "execution_count": null,
   "id": "534aac2b",
   "metadata": {},
   "outputs": [],
   "source": [
    "kmeans = MiniBatchKMeans(3, random_state=42, max_iter=250)\n",
    "labels = kmeans.fit_predict(d3ata)"
   ]
  },
  {
   "cell_type": "markdown",
   "id": "c40d5886",
   "metadata": {},
   "source": [
    "3D Plotting"
   ]
  },
  {
   "cell_type": "code",
   "execution_count": null,
   "id": "cf4f2b52",
   "metadata": {},
   "outputs": [],
   "source": [
    "marker_data = go.Scatter3d(\n",
    "    x=d3ata[:, 0], \n",
    "    y=d3ata[:, 1], \n",
    "    z=d3ata[:, 2], \n",
    "#     marker=go.scatter3d.Marker(size=3), \n",
    "    opacity=0.8, \n",
    "    mode='markers',\n",
    "    marker={\n",
    "        \"color\": labels,\n",
    "        \"size\": 3\n",
    "    }\n",
    ")\n",
    "fig=go.Figure(data=marker_data)\n",
    "fig.show()"
   ]
  },
  {
   "cell_type": "code",
   "execution_count": null,
   "id": "4228abb0",
   "metadata": {},
   "outputs": [],
   "source": [
    "kmeans2 = MiniBatchKMeans(6, random_state=42, max_iter=250)\n",
    "labels2 = kmeans2.fit_predict(d2ata)"
   ]
  },
  {
   "cell_type": "markdown",
   "id": "cee64aba",
   "metadata": {},
   "source": [
    "Scatterplot"
   ]
  },
  {
   "cell_type": "code",
   "execution_count": null,
   "id": "8bf8c897",
   "metadata": {},
   "outputs": [],
   "source": [
    "fig_dims = (10, 10)\n",
    "fig, ax = plt.subplots(figsize=fig_dims)\n",
    "\n",
    "sns.scatterplot(x=d2ata[:, 0], y=d2ata[:, 1], ax=ax, c=labels2)"
   ]
  },
  {
   "cell_type": "code",
   "execution_count": null,
   "id": "e70bdec9",
   "metadata": {},
   "outputs": [],
   "source": [
    "kmeans3 = MiniBatchKMeans(6, random_state=42, max_iter=250)\n",
    "labels3 = kmeans3.fit_predict(train_df)"
   ]
  },
  {
   "cell_type": "code",
   "execution_count": null,
   "id": "bb8faa1f",
   "metadata": {},
   "outputs": [],
   "source": [
    "fig_dims = (10, 10)\n",
    "fig, ax = plt.subplots(figsize=fig_dims)\n",
    "\n",
    "sns.scatterplot(x=d2ata[:, 0], y=d2ata[:, 1], ax=ax, c=labels3)"
   ]
  },
  {
   "cell_type": "markdown",
   "id": "56b4d887",
   "metadata": {},
   "source": [
    "Plotting to get best cluster number"
   ]
  },
  {
   "cell_type": "code",
   "execution_count": null,
   "id": "02640e56",
   "metadata": {
    "scrolled": false
   },
   "outputs": [],
   "source": [
    "inertia = {}\n",
    "for i in range(2, 9):\n",
    "    kmeansX = MiniBatchKMeans(i, random_state=42, max_iter=250)\n",
    "    labelsX = kmeansX.fit_predict(train_df)\n",
    "    inertia[i] = kmeansX.inertia_\n",
    "sns.lineplot(x=list(inertia.keys()), y=list(inertia.values()))"
   ]
  },
  {
   "cell_type": "code",
   "execution_count": null,
   "id": "2ef35efd",
   "metadata": {},
   "outputs": [],
   "source": [
    "inertia = {}\n",
    "for i in range(2, 9):\n",
    "    kmeansX = MiniBatchKMeans(i, random_state=42, max_iter=250)\n",
    "    labelsX = kmeansX.fit_predict(d2ata)\n",
    "    inertia[i] = kmeansX.inertia_\n",
    "sns.lineplot(x=list(inertia.keys()), y=list(inertia.values()))"
   ]
  },
  {
   "cell_type": "code",
   "execution_count": null,
   "id": "47257c71",
   "metadata": {},
   "outputs": [],
   "source": [
    "inertia = {}\n",
    "for i in range(2, 9):\n",
    "    kmeansX = MiniBatchKMeans(i, random_state=42, max_iter=250)\n",
    "    labelsX = kmeansX.fit_predict(d3ata)\n",
    "    inertia[i] = kmeansX.inertia_\n",
    "sns.lineplot(x=list(inertia.keys()), y=list(inertia.values()))"
   ]
  },
  {
   "cell_type": "code",
   "execution_count": null,
   "id": "94486e84",
   "metadata": {},
   "outputs": [],
   "source": [
    "kmeans4 = MiniBatchKMeans(3, random_state=42, max_iter=250)\n",
    "labels4 = kmeans4.fit_predict(train_df)"
   ]
  },
  {
   "cell_type": "code",
   "execution_count": null,
   "id": "f590fe1c",
   "metadata": {},
   "outputs": [],
   "source": [
    "fig_dims = (10, 10)\n",
    "fig, ax = plt.subplots(figsize=fig_dims)\n",
    "\n",
    "sns.scatterplot(x=d2ata[:, 0], y=d2ata[:, 1], ax=ax, c=labels4)"
   ]
  },
  {
   "cell_type": "code",
   "execution_count": null,
   "id": "3992f33d",
   "metadata": {},
   "outputs": [],
   "source": [
    "marker_data = go.Scatter3d(\n",
    "    x=d3ata[:, 0], \n",
    "    y=d3ata[:, 1], \n",
    "    z=d3ata[:, 2], \n",
    "#     marker=go.scatter3d.Marker(size=3), \n",
    "    opacity=0.8, \n",
    "    mode='markers',\n",
    "    marker={\n",
    "        \"color\": labels4,\n",
    "        \"size\": 3\n",
    "    }\n",
    ")\n",
    "fig=go.Figure(data=marker_data)\n",
    "fig.show()"
   ]
  },
  {
   "cell_type": "code",
   "execution_count": null,
   "id": "723c7aa0",
   "metadata": {},
   "outputs": [],
   "source": [
    "kmeans5 = MiniBatchKMeans(3, random_state=42, max_iter=250)\n",
    "labels5 = kmeans5.fit_predict(d2ata)"
   ]
  },
  {
   "cell_type": "code",
   "execution_count": null,
   "id": "61cd82d3",
   "metadata": {
    "scrolled": false
   },
   "outputs": [],
   "source": [
    "fig_dims = (15, 15)\n",
    "fig, ax = plt.subplots(figsize=fig_dims)\n",
    "\n",
    "sns.scatterplot(x=d2ata[:, 0], y=d2ata[:, 1], ax=ax, c=labels5)"
   ]
  },
  {
   "cell_type": "code",
   "execution_count": null,
   "id": "c2036aa7",
   "metadata": {},
   "outputs": [],
   "source": [
    "newdf.columns"
   ]
  },
  {
   "cell_type": "code",
   "execution_count": null,
   "id": "a2a7c8fc",
   "metadata": {},
   "outputs": [],
   "source": [
    "newdf[\"label\"] = labels5\n",
    "newdf"
   ]
  },
  {
   "cell_type": "code",
   "execution_count": null,
   "id": "20b313fa",
   "metadata": {},
   "outputs": [],
   "source": [
    "x = df[df[\"location\"] == \"France\"]#[\"label\"].value_counts()\n",
    "x[x[\"label\"] == 1]\n",
    "# sns.barplot(x=[1, 2, 3], y)"
   ]
  },
  {
   "cell_type": "code",
   "execution_count": null,
   "id": "38f5a1d8",
   "metadata": {},
   "outputs": [],
   "source": [
    "last_day = df[df[\"location\"] == \"France\"].iloc[-1]"
   ]
  },
  {
   "cell_type": "code",
   "execution_count": null,
   "id": "748c538e",
   "metadata": {},
   "outputs": [],
   "source": [
    "last_day"
   ]
  }
 ],
 "metadata": {
  "kernelspec": {
   "display_name": "Python 3 (ipykernel)",
   "language": "python",
   "name": "python3"
  },
  "language_info": {
   "codemirror_mode": {
    "name": "ipython",
    "version": 3
   },
   "file_extension": ".py",
   "mimetype": "text/x-python",
   "name": "python",
   "nbconvert_exporter": "python",
   "pygments_lexer": "ipython3",
   "version": "3.9.7"
  }
 },
 "nbformat": 4,
 "nbformat_minor": 5
}
